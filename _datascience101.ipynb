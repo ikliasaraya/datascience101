{
  "nbformat": 4,
  "nbformat_minor": 0,
  "metadata": {
    "colab": {
      "provenance": [],
      "collapsed_sections": [
        "01JbcJrBY1Xd",
        "bR4XslocY8IP",
        "F_1Rz1o7QgLh",
        "28mYwzSEYXK0",
        "zj5M_imXZywo",
        "dAcmMykgmOFM"
      ],
      "toc_visible": true,
      "authorship_tag": "ABX9TyOakI3jm+P9/n/BPBL2iRSu",
      "include_colab_link": true
    },
    "kernelspec": {
      "name": "python3",
      "display_name": "Python 3"
    },
    "language_info": {
      "name": "python"
    }
  },
  "cells": [
    {
      "cell_type": "markdown",
      "metadata": {
        "id": "view-in-github",
        "colab_type": "text"
      },
      "source": [
        "<a href=\"https://colab.research.google.com/github/ikliasaraya/datascience101/blob/main/_datascience101.ipynb\" target=\"_parent\"><img src=\"https://colab.research.google.com/assets/colab-badge.svg\" alt=\"Open In Colab\"/></a>"
      ]
    },
    {
      "cell_type": "markdown",
      "source": [
        "# Sets Data Structure"
      ],
      "metadata": {
        "id": "01JbcJrBY1Xd"
      }
    },
    {
      "cell_type": "code",
      "source": [
        "mySet = {\"bmw\",33,\"cars\"}"
      ],
      "metadata": {
        "id": "1QHdKM9FWmTl"
      },
      "execution_count": 114,
      "outputs": []
    },
    {
      "cell_type": "code",
      "source": [
        "mySet"
      ],
      "metadata": {
        "colab": {
          "base_uri": "https://localhost:8080/"
        },
        "id": "LGk_Za85XE9A",
        "outputId": "e0e59352-a6e3-47b2-a3e7-a90757f23b75"
      },
      "execution_count": 115,
      "outputs": [
        {
          "output_type": "execute_result",
          "data": {
            "text/plain": [
              "{33, 'bmw', 'cars'}"
            ]
          },
          "metadata": {},
          "execution_count": 115
        }
      ]
    },
    {
      "cell_type": "code",
      "source": [
        "mySet.add(\"newItem\")"
      ],
      "metadata": {
        "id": "oog2vvAnXKtw"
      },
      "execution_count": 116,
      "outputs": []
    },
    {
      "cell_type": "code",
      "source": [
        "mySet"
      ],
      "metadata": {
        "colab": {
          "base_uri": "https://localhost:8080/"
        },
        "id": "YiWmPcJGXOMq",
        "outputId": "d1771237-e021-4355-91df-7f42bea03954"
      },
      "execution_count": 117,
      "outputs": [
        {
          "output_type": "execute_result",
          "data": {
            "text/plain": [
              "{33, 'bmw', 'cars', 'newItem'}"
            ]
          },
          "metadata": {},
          "execution_count": 117
        }
      ]
    },
    {
      "cell_type": "code",
      "source": [
        "for x in mySet:\n",
        "  print(x)"
      ],
      "metadata": {
        "colab": {
          "base_uri": "https://localhost:8080/"
        },
        "id": "dK60QkECXXa7",
        "outputId": "94a9440a-d49b-464d-ce45-5d8b09302e87"
      },
      "execution_count": 118,
      "outputs": [
        {
          "output_type": "stream",
          "name": "stdout",
          "text": [
            "bmw\n",
            "33\n",
            "cars\n",
            "newItem\n"
          ]
        }
      ]
    },
    {
      "cell_type": "code",
      "source": [
        "mySet.remove(33)"
      ],
      "metadata": {
        "id": "KOYJTVKKXiEf"
      },
      "execution_count": 119,
      "outputs": []
    },
    {
      "cell_type": "code",
      "source": [
        "dupSet = mySet\n",
        "print(dupSet)"
      ],
      "metadata": {
        "colab": {
          "base_uri": "https://localhost:8080/"
        },
        "id": "FCWyVSNQX4s7",
        "outputId": "4086727e-e48c-4189-8ba8-a6763ccdc3bd"
      },
      "execution_count": 120,
      "outputs": [
        {
          "output_type": "stream",
          "name": "stdout",
          "text": [
            "{'bmw', 'cars', 'newItem'}\n"
          ]
        }
      ]
    },
    {
      "cell_type": "markdown",
      "source": [
        "# Pandas Library"
      ],
      "metadata": {
        "id": "bR4XslocY8IP"
      }
    },
    {
      "cell_type": "code",
      "source": [],
      "metadata": {
        "id": "cErr_dYBZDcP"
      },
      "execution_count": null,
      "outputs": []
    },
    {
      "cell_type": "markdown",
      "source": [
        "# Numpy"
      ],
      "metadata": {
        "id": "7FcVrZzCduZF"
      }
    },
    {
      "cell_type": "code",
      "source": [
        "import numpy as np"
      ],
      "metadata": {
        "id": "BmAhXB6mdzIn"
      },
      "execution_count": 3,
      "outputs": []
    },
    {
      "cell_type": "code",
      "source": [
        "# numpy array\n",
        "prices = np.array([32,45,66]) #1d array & list & vector\n",
        "prices.view()"
      ],
      "metadata": {
        "colab": {
          "base_uri": "https://localhost:8080/"
        },
        "id": "BPZo_hUsho4v",
        "outputId": "f7b69ede-fb71-44da-87cc-613b71cc7e49"
      },
      "execution_count": null,
      "outputs": [
        {
          "output_type": "execute_result",
          "data": {
            "text/plain": [
              "array([32, 45, 66])"
            ]
          },
          "metadata": {},
          "execution_count": 23
        }
      ]
    },
    {
      "cell_type": "code",
      "source": [
        "counts = np.array([[32,3],[45,3],[66,6]]) #2d array\n",
        "counts.view()"
      ],
      "metadata": {
        "colab": {
          "base_uri": "https://localhost:8080/"
        },
        "id": "d1GVJv1dlqhR",
        "outputId": "033c8b11-344d-462d-e259-04026323e137"
      },
      "execution_count": null,
      "outputs": [
        {
          "output_type": "execute_result",
          "data": {
            "text/plain": [
              "array([[32,  3],\n",
              "       [45,  3],\n",
              "       [66,  6]])"
            ]
          },
          "metadata": {},
          "execution_count": 24
        }
      ]
    },
    {
      "cell_type": "code",
      "source": [
        "rgb = np.random.rand(4,4,3)\n",
        "rgb.view()"
      ],
      "metadata": {
        "colab": {
          "base_uri": "https://localhost:8080/"
        },
        "id": "54rn2j-clzAX",
        "outputId": "36f37c45-a684-433d-c47b-b3e6bb3b2634",
        "collapsed": true
      },
      "execution_count": null,
      "outputs": [
        {
          "output_type": "execute_result",
          "data": {
            "text/plain": [
              "array([[[0.98359565, 0.50586294, 0.83531247],\n",
              "        [0.97295969, 0.84621723, 0.2130546 ],\n",
              "        [0.65315625, 0.41906985, 0.97387426],\n",
              "        [0.28570096, 0.84224609, 0.23258483]],\n",
              "\n",
              "       [[0.83806207, 0.24608991, 0.33476313],\n",
              "        [0.24461085, 0.39847726, 0.70011645],\n",
              "        [0.7771493 , 0.28619192, 0.19620762],\n",
              "        [0.88212682, 0.34400936, 0.56624273]],\n",
              "\n",
              "       [[0.02808256, 0.59324631, 0.47063737],\n",
              "        [0.11136113, 0.98411585, 0.47529102],\n",
              "        [0.00589576, 0.19413249, 0.93249876],\n",
              "        [0.84484886, 0.42806816, 0.0865383 ]],\n",
              "\n",
              "       [[0.3705054 , 0.78591388, 0.27080322],\n",
              "        [0.75336143, 0.4832643 , 0.39227787],\n",
              "        [0.51327323, 0.35947665, 0.06995236],\n",
              "        [0.0974105 , 0.88860646, 0.19772832]]])"
            ]
          },
          "metadata": {},
          "execution_count": 25
        }
      ]
    },
    {
      "cell_type": "code",
      "source": [
        "exampleList = np.arange(0,100,5) #Parameters: (Start point - End point - Step)\n",
        "exampleList.view()"
      ],
      "metadata": {
        "colab": {
          "base_uri": "https://localhost:8080/"
        },
        "id": "1SmN0ZaPdOYE",
        "outputId": "f32b20c1-25b8-4ae9-e85f-a906e94d0fb5"
      },
      "execution_count": null,
      "outputs": [
        {
          "output_type": "execute_result",
          "data": {
            "text/plain": [
              "array([ 0,  5, 10, 15, 20, 25, 30, 35, 40, 45, 50, 55, 60, 65, 70, 75, 80,\n",
              "       85, 90, 95])"
            ]
          },
          "metadata": {},
          "execution_count": 3
        }
      ]
    },
    {
      "cell_type": "code",
      "source": [
        "exampleList2 = np.linspace(0,100,5, dtype=int) #Parameters: (Start point - End point - Number of points *End point included*)\n",
        "exampleList2.view()"
      ],
      "metadata": {
        "colab": {
          "base_uri": "https://localhost:8080/"
        },
        "id": "3lI62R6beR_P",
        "outputId": "171d1cfc-7000-436a-b689-541c357e69ff"
      },
      "execution_count": null,
      "outputs": [
        {
          "output_type": "execute_result",
          "data": {
            "text/plain": [
              "array([  0,  25,  50,  75, 100])"
            ]
          },
          "metadata": {},
          "execution_count": 9
        }
      ]
    },
    {
      "cell_type": "code",
      "source": [
        "exampleList3 = np.logspace(1,3,5) #Parameters: (Start point - End point - Number of points *End point included*)\n",
        "exampleList3.view()"
      ],
      "metadata": {
        "colab": {
          "base_uri": "https://localhost:8080/"
        },
        "id": "XekPsY0Uf1rg",
        "outputId": "6a6495ce-533d-437b-9e75-81615deecef1"
      },
      "execution_count": null,
      "outputs": [
        {
          "output_type": "execute_result",
          "data": {
            "text/plain": [
              "array([  10.        ,   31.6227766 ,  100.        ,  316.22776602,\n",
              "       1000.        ])"
            ]
          },
          "metadata": {},
          "execution_count": 8
        }
      ]
    },
    {
      "cell_type": "code",
      "source": [
        "exampleList4 = np.arange(10,101,5)\n",
        "exampleList4.view()"
      ],
      "metadata": {
        "colab": {
          "base_uri": "https://localhost:8080/"
        },
        "id": "cwlQ8s59pDJD",
        "outputId": "380e592a-6bf7-4157-9689-6c32c8e15203"
      },
      "execution_count": null,
      "outputs": [
        {
          "output_type": "execute_result",
          "data": {
            "text/plain": [
              "array([ 10,  15,  20,  25,  30,  35,  40,  45,  50,  55,  60,  65,  70,\n",
              "        75,  80,  85,  90,  95, 100])"
            ]
          },
          "metadata": {},
          "execution_count": 10
        }
      ]
    },
    {
      "cell_type": "code",
      "source": [
        "exampleList5 = np.linspace(0,1000,26)\n",
        "exampleList5.view()"
      ],
      "metadata": {
        "id": "ODcX1cDhp9io"
      },
      "execution_count": null,
      "outputs": []
    },
    {
      "cell_type": "code",
      "source": [
        "exampleList6 = np.zeros(20, dtype=int)\n",
        "exampleList6.view()"
      ],
      "metadata": {
        "colab": {
          "base_uri": "https://localhost:8080/"
        },
        "id": "UK3_T6fQqYH_",
        "outputId": "c66ee82f-b1dd-41c3-9d29-4726cf38a0b3"
      },
      "execution_count": null,
      "outputs": [
        {
          "output_type": "execute_result",
          "data": {
            "text/plain": [
              "array([0, 0, 0, 0, 0, 0, 0, 0, 0, 0, 0, 0, 0, 0, 0, 0, 0, 0, 0, 0])"
            ]
          },
          "metadata": {},
          "execution_count": 13
        }
      ]
    },
    {
      "cell_type": "code",
      "source": [
        "exampleList7 = np.zeros((5,10), dtype=int)\n",
        "exampleList7.view()"
      ],
      "metadata": {
        "colab": {
          "base_uri": "https://localhost:8080/"
        },
        "id": "QOYCc0RQqiLK",
        "outputId": "55af361c-270a-44f5-cc2b-02473c21c646"
      },
      "execution_count": null,
      "outputs": [
        {
          "output_type": "execute_result",
          "data": {
            "text/plain": [
              "array([[0, 0, 0, 0, 0, 0, 0, 0, 0, 0],\n",
              "       [0, 0, 0, 0, 0, 0, 0, 0, 0, 0],\n",
              "       [0, 0, 0, 0, 0, 0, 0, 0, 0, 0],\n",
              "       [0, 0, 0, 0, 0, 0, 0, 0, 0, 0],\n",
              "       [0, 0, 0, 0, 0, 0, 0, 0, 0, 0]])"
            ]
          },
          "metadata": {},
          "execution_count": 15
        }
      ]
    },
    {
      "cell_type": "code",
      "source": [
        "exampleList8 = np.ones((5,10), dtype=int)\n",
        "exampleList8.view()"
      ],
      "metadata": {
        "colab": {
          "base_uri": "https://localhost:8080/"
        },
        "id": "dmNhYKjAq7Bz",
        "outputId": "e599db11-8776-4199-a86c-9967f7301134"
      },
      "execution_count": null,
      "outputs": [
        {
          "output_type": "execute_result",
          "data": {
            "text/plain": [
              "array([[1, 1, 1, 1, 1, 1, 1, 1, 1, 1],\n",
              "       [1, 1, 1, 1, 1, 1, 1, 1, 1, 1],\n",
              "       [1, 1, 1, 1, 1, 1, 1, 1, 1, 1],\n",
              "       [1, 1, 1, 1, 1, 1, 1, 1, 1, 1],\n",
              "       [1, 1, 1, 1, 1, 1, 1, 1, 1, 1]])"
            ]
          },
          "metadata": {},
          "execution_count": 17
        }
      ]
    },
    {
      "cell_type": "code",
      "source": [
        "exampleList9 = np.eye(10, dtype=int)\n",
        "exampleList9.view()"
      ],
      "metadata": {
        "colab": {
          "base_uri": "https://localhost:8080/"
        },
        "id": "l-E2W7oYs9bo",
        "outputId": "6ee41ad3-57a8-4ac1-ea5b-a28eb79462e8"
      },
      "execution_count": null,
      "outputs": [
        {
          "output_type": "execute_result",
          "data": {
            "text/plain": [
              "array([[1, 0, 0, 0, 0, 0, 0, 0, 0, 0],\n",
              "       [0, 1, 0, 0, 0, 0, 0, 0, 0, 0],\n",
              "       [0, 0, 1, 0, 0, 0, 0, 0, 0, 0],\n",
              "       [0, 0, 0, 1, 0, 0, 0, 0, 0, 0],\n",
              "       [0, 0, 0, 0, 1, 0, 0, 0, 0, 0],\n",
              "       [0, 0, 0, 0, 0, 1, 0, 0, 0, 0],\n",
              "       [0, 0, 0, 0, 0, 0, 1, 0, 0, 0],\n",
              "       [0, 0, 0, 0, 0, 0, 0, 1, 0, 0],\n",
              "       [0, 0, 0, 0, 0, 0, 0, 0, 1, 0],\n",
              "       [0, 0, 0, 0, 0, 0, 0, 0, 0, 1]])"
            ]
          },
          "metadata": {},
          "execution_count": 18
        }
      ]
    },
    {
      "cell_type": "code",
      "source": [
        "# Numpy random function\n",
        "# 0-1\n",
        "randomList = np.random.rand(3,5)\n",
        "randomList.view()"
      ],
      "metadata": {
        "colab": {
          "base_uri": "https://localhost:8080/"
        },
        "collapsed": true,
        "id": "eUvGZiR9uCmz",
        "outputId": "28807c14-9400-4eb9-8196-2cf64f5fa342"
      },
      "execution_count": null,
      "outputs": [
        {
          "output_type": "execute_result",
          "data": {
            "text/plain": [
              "array([[0.51180616, 0.52214779, 0.8641771 , 0.34417394, 0.3749564 ],\n",
              "       [0.4429532 , 0.10542074, 0.0445833 , 0.80658617, 0.47735117],\n",
              "       [0.9778082 , 0.06397303, 0.86285483, 0.85351245, 0.3633968 ]])"
            ]
          },
          "metadata": {},
          "execution_count": 24
        }
      ]
    },
    {
      "cell_type": "code",
      "source": [
        "# 0-100 random 5 int\n",
        "randomList2 = np.random.randint(0,100,5)\n",
        "randomList2.view()"
      ],
      "metadata": {
        "colab": {
          "base_uri": "https://localhost:8080/"
        },
        "collapsed": true,
        "id": "bRD0dBMEuRuh",
        "outputId": "5ead6de3-2c87-4765-ee48-4b043c303c33"
      },
      "execution_count": null,
      "outputs": [
        {
          "output_type": "execute_result",
          "data": {
            "text/plain": [
              "array([15, 10, 36, 95, 80])"
            ]
          },
          "metadata": {},
          "execution_count": 25
        }
      ]
    },
    {
      "cell_type": "code",
      "source": [
        "# 0-20 3x6\n",
        "randomList3 = np.random.rand(3,6) * 20\n",
        "randomList3.view()"
      ],
      "metadata": {
        "colab": {
          "base_uri": "https://localhost:8080/"
        },
        "collapsed": true,
        "id": "q2sRAVmmuvPV",
        "outputId": "3a9b46bf-0783-4013-9b82-48b3055c2fe0"
      },
      "execution_count": null,
      "outputs": [
        {
          "output_type": "execute_result",
          "data": {
            "text/plain": [
              "array([[15.54901192,  0.46337357,  4.65081533, 14.30721056,  0.79664317,\n",
              "        14.28788308],\n",
              "       [ 4.22713271,  8.99204907,  2.45723886,  3.29206433,  9.80642527,\n",
              "         1.78218289],\n",
              "       [16.87981802,  3.37792174, 18.15562839,  9.57208112,  3.95054657,\n",
              "        10.48661493]])"
            ]
          },
          "metadata": {},
          "execution_count": 26
        }
      ]
    },
    {
      "cell_type": "code",
      "source": [
        "# 36-46 7x3 integer\n",
        "randomList4 = np.random.randint(36,46,(7,3), dtype=int)\n",
        "randomList4.view()"
      ],
      "metadata": {
        "colab": {
          "base_uri": "https://localhost:8080/"
        },
        "id": "bQe-yWURvBbp",
        "outputId": "5ac277bb-84c0-4b3b-b332-6c72d85489ec"
      },
      "execution_count": null,
      "outputs": [
        {
          "output_type": "execute_result",
          "data": {
            "text/plain": [
              "array([[37, 39, 42],\n",
              "       [42, 45, 42],\n",
              "       [43, 41, 40],\n",
              "       [42, 42, 39],\n",
              "       [43, 42, 41],\n",
              "       [37, 42, 40],\n",
              "       [45, 43, 44]])"
            ]
          },
          "metadata": {},
          "execution_count": 27
        }
      ]
    },
    {
      "cell_type": "code",
      "source": [
        "randomList5 = np.random.randint(0,50,(4,6),dtype=int)\n",
        "randomList5.view()"
      ],
      "metadata": {
        "colab": {
          "base_uri": "https://localhost:8080/"
        },
        "id": "c94ONbSCvYRB",
        "outputId": "cfbca325-940b-454e-bd7f-acbd241d4afa"
      },
      "execution_count": 5,
      "outputs": [
        {
          "output_type": "execute_result",
          "data": {
            "text/plain": [
              "array([[10,  6, 29, 48, 49, 15],\n",
              "       [ 2,  2, 35, 36, 24,  9],\n",
              "       [43, 26, 38, 47, 45, 18],\n",
              "       [26, 45, 18, 32, 39,  8]])"
            ]
          },
          "metadata": {},
          "execution_count": 5
        }
      ]
    },
    {
      "cell_type": "markdown",
      "source": [
        "## Array Features"
      ],
      "metadata": {
        "id": "5A45btWUPNCF"
      }
    },
    {
      "cell_type": "code",
      "source": [
        "print(\"dimension: \", randomList5.ndim)\n",
        "print(\"shape: \", randomList5.shape)\n",
        "print(\"size: \", randomList5.size)\n",
        "print(\"data type: \", randomList5.dtype)"
      ],
      "metadata": {
        "id": "kBi90llIw7ok",
        "colab": {
          "base_uri": "https://localhost:8080/"
        },
        "outputId": "c84de004-1843-4926-acaa-946e397c6c8c"
      },
      "execution_count": 6,
      "outputs": [
        {
          "output_type": "stream",
          "name": "stdout",
          "text": [
            "dimension:  2\n",
            "shape:  (4, 6)\n",
            "size:  24\n",
            "data type:  int64\n"
          ]
        }
      ]
    },
    {
      "cell_type": "markdown",
      "source": [
        "## Array Reshaping"
      ],
      "metadata": {
        "id": "LPtycXc4PU9A"
      }
    },
    {
      "cell_type": "code",
      "source": [
        "arr300 = np.random.randint(0,100,(1,9),dtype=int)\n",
        "arr300.view()"
      ],
      "metadata": {
        "colab": {
          "base_uri": "https://localhost:8080/"
        },
        "id": "5t7cyZGtPR1U",
        "outputId": "82cad07f-deb3-4c07-b7b7-d50535db3c91"
      },
      "execution_count": 8,
      "outputs": [
        {
          "output_type": "execute_result",
          "data": {
            "text/plain": [
              "array([[71, 45, 88, 16, 43, 39, 45, 21, 95]])"
            ]
          },
          "metadata": {},
          "execution_count": 8
        }
      ]
    },
    {
      "cell_type": "code",
      "source": [
        "arr300.reshape((3,3)) # Dimension transform"
      ],
      "metadata": {
        "colab": {
          "base_uri": "https://localhost:8080/"
        },
        "id": "nnWmFX-1PujO",
        "outputId": "52063605-4b44-4461-d5c8-f83b6f05da5b"
      },
      "execution_count": 11,
      "outputs": [
        {
          "output_type": "execute_result",
          "data": {
            "text/plain": [
              "array([[71, 45, 88],\n",
              "       [16, 43, 39],\n",
              "       [45, 21, 95]])"
            ]
          },
          "metadata": {},
          "execution_count": 11
        }
      ]
    },
    {
      "cell_type": "code",
      "source": [
        "transposed = arr300.T # Transposed matrix\n",
        "transposed.view()"
      ],
      "metadata": {
        "colab": {
          "base_uri": "https://localhost:8080/"
        },
        "id": "lW51_HSoQNAh",
        "outputId": "6dbc48b1-f1cb-42d2-88b3-bc456760da25"
      },
      "execution_count": 12,
      "outputs": [
        {
          "output_type": "execute_result",
          "data": {
            "text/plain": [
              "array([[71],\n",
              "       [45],\n",
              "       [88],\n",
              "       [16],\n",
              "       [43],\n",
              "       [39],\n",
              "       [45],\n",
              "       [21],\n",
              "       [95]])"
            ]
          },
          "metadata": {},
          "execution_count": 12
        }
      ]
    },
    {
      "cell_type": "code",
      "source": [
        "arr300.flatten() # One dimension"
      ],
      "metadata": {
        "colab": {
          "base_uri": "https://localhost:8080/"
        },
        "id": "NWahvrF4P_ix",
        "outputId": "a2dcb050-f614-4217-9203-e3a56d6917ad"
      },
      "execution_count": 10,
      "outputs": [
        {
          "output_type": "execute_result",
          "data": {
            "text/plain": [
              "array([71, 45, 88, 16, 43, 39, 45, 21, 95])"
            ]
          },
          "metadata": {},
          "execution_count": 10
        }
      ]
    },
    {
      "cell_type": "markdown",
      "source": [
        "## Array Arithmetics"
      ],
      "metadata": {
        "id": "F_1Rz1o7QgLh"
      }
    },
    {
      "cell_type": "code",
      "source": [
        "arr301 = np.random.randint(0,100,(5,5),dtype=int)\n",
        "arr301.view()"
      ],
      "metadata": {
        "colab": {
          "base_uri": "https://localhost:8080/"
        },
        "id": "igy8uqtaQfPj",
        "outputId": "b6ef546e-5bb9-4dae-cdcf-9fd431160703"
      },
      "execution_count": 13,
      "outputs": [
        {
          "output_type": "execute_result",
          "data": {
            "text/plain": [
              "array([[ 5, 38, 54, 18, 27],\n",
              "       [12, 58, 74, 27, 51],\n",
              "       [66, 44, 49,  1, 10],\n",
              "       [24, 83, 56, 49, 48],\n",
              "       [52, 46, 83, 33,  2]])"
            ]
          },
          "metadata": {},
          "execution_count": 13
        }
      ]
    },
    {
      "cell_type": "code",
      "source": [
        "print(\"Sum: \", arr301.sum())\n",
        "print(\"Min: \", arr301.min())\n",
        "print(\"Max: \", arr301.max())\n",
        "print(\"Mean: \", arr301.mean())\n",
        "print(\"Std: \", arr301.std())\n",
        "print(\"Cumsum: \", arr301.cumsum())"
      ],
      "metadata": {
        "colab": {
          "base_uri": "https://localhost:8080/"
        },
        "id": "b_9VHVdeQzzH",
        "outputId": "0b867fce-7ecd-4180-a4df-e97dce7edb41"
      },
      "execution_count": 15,
      "outputs": [
        {
          "output_type": "stream",
          "name": "stdout",
          "text": [
            "Sum:  1010\n",
            "Min:  1\n",
            "Max:  83\n",
            "Mean:  40.4\n",
            "Std:  23.537204591879643\n",
            "Cumsum:  [   5   43   97  115  142  154  212  286  313  364  430  474  523  524\n",
            "  534  558  641  697  746  794  846  892  975 1008 1010]\n"
          ]
        }
      ]
    },
    {
      "cell_type": "markdown",
      "source": [
        "## Array Slicing"
      ],
      "metadata": {
        "id": "pxoEaZfcTQ-9"
      }
    },
    {
      "cell_type": "code",
      "source": [
        "arr302 = np.random.randint(0,100,(5,5),dtype=int)\n",
        "arr302.view()"
      ],
      "metadata": {
        "colab": {
          "base_uri": "https://localhost:8080/"
        },
        "id": "AUQCucIBTOzx",
        "outputId": "64f105de-4408-4da9-fbca-8ea5033937f4"
      },
      "execution_count": 16,
      "outputs": [
        {
          "output_type": "execute_result",
          "data": {
            "text/plain": [
              "array([[ 9, 80, 60, 17, 27],\n",
              "       [34, 19, 21,  1, 62],\n",
              "       [40,  3, 82, 90, 51],\n",
              "       [41, 45, 81, 39, 17],\n",
              "       [44, 54, 20, 32, 65]])"
            ]
          },
          "metadata": {},
          "execution_count": 16
        }
      ]
    },
    {
      "cell_type": "code",
      "source": [
        "print(\"Index [1,0]\", arr302[1,0])"
      ],
      "metadata": {
        "colab": {
          "base_uri": "https://localhost:8080/"
        },
        "id": "vjEIYDeLTW0H",
        "outputId": "2c3c0ec7-86ae-4c87-b8f6-96264a0ae5ca"
      },
      "execution_count": 21,
      "outputs": [
        {
          "output_type": "stream",
          "name": "stdout",
          "text": [
            "Index [1,2] 34\n"
          ]
        }
      ]
    },
    {
      "cell_type": "code",
      "source": [
        "print(\"Colon: \", arr302[:,0])\n",
        "print(\"Colon: \", arr302[:,1])\n",
        "print(\"Colon: \", arr302[:,2])\n",
        "print(\"Colon: \", arr302[:,3])\n",
        "\n",
        "print(\"Row: \", arr302[0,:])\n",
        "print(\"Row: \", arr302[1,:])\n",
        "print(\"Row: \", arr302[2,:])\n",
        "print(\"Row: \", arr302[3,:])"
      ],
      "metadata": {
        "colab": {
          "base_uri": "https://localhost:8080/"
        },
        "id": "q0iz09iRURCu",
        "outputId": "f54d8bbe-dd0d-4d23-9e56-e5ecd8c8d1f7"
      },
      "execution_count": 25,
      "outputs": [
        {
          "output_type": "stream",
          "name": "stdout",
          "text": [
            "Colon:  [ 9 34 40 41 44]\n",
            "Colon:  [80 19  3 45 54]\n",
            "Colon:  [60 21 82 81 20]\n",
            "Colon:  [17  1 90 39 32]\n",
            "Row:  [ 9 80 60 17 27]\n",
            "Row:  [34 19 21  1 62]\n",
            "Row:  [40  3 82 90 51]\n",
            "Row:  [41 45 81 39 17]\n"
          ]
        }
      ]
    },
    {
      "cell_type": "markdown",
      "source": [
        "## Array Conditions"
      ],
      "metadata": {
        "id": "kJhnoT2JVMID"
      }
    },
    {
      "cell_type": "code",
      "source": [
        "array303 = np.random.randint(0,100,(5,5),dtype=int)\n",
        "array303.view()"
      ],
      "metadata": {
        "colab": {
          "base_uri": "https://localhost:8080/"
        },
        "id": "4lXA5SSoVKhB",
        "outputId": "b48c69b5-f1ed-4a37-8941-89f4067ceef4"
      },
      "execution_count": 26,
      "outputs": [
        {
          "output_type": "execute_result",
          "data": {
            "text/plain": [
              "array([[14, 28, 47, 72, 64],\n",
              "       [38, 98, 12, 46, 66],\n",
              "       [82, 76, 14, 12, 26],\n",
              "       [50, 86, 32, 45, 62],\n",
              "       [49, 79, 11, 88, 56]])"
            ]
          },
          "metadata": {},
          "execution_count": 26
        }
      ]
    },
    {
      "cell_type": "code",
      "source": [
        "print(\">30\", array303[array303>30])\n",
        "print(\"<=30\", array303[array303<=30])\n",
        "\n",
        "array303[array303>30] = 30\n",
        "array303.view()"
      ],
      "metadata": {
        "colab": {
          "base_uri": "https://localhost:8080/"
        },
        "id": "FiiUFD2-VWHL",
        "outputId": "7d57c278-3d67-406c-b17a-2c8b6ddaea03"
      },
      "execution_count": 28,
      "outputs": [
        {
          "output_type": "stream",
          "name": "stdout",
          "text": [
            ">30 [47 72 64 38 98 46 66 82 76 50 86 32 45 62 49 79 88 56]\n",
            "<=30 [14 28 12 14 12 26 11]\n"
          ]
        },
        {
          "output_type": "execute_result",
          "data": {
            "text/plain": [
              "array([[14, 28, 30, 30, 30],\n",
              "       [30, 30, 12, 30, 30],\n",
              "       [30, 30, 14, 12, 26],\n",
              "       [30, 30, 30, 30, 30],\n",
              "       [30, 30, 11, 30, 30]])"
            ]
          },
          "metadata": {},
          "execution_count": 28
        }
      ]
    },
    {
      "cell_type": "markdown",
      "source": [
        "## Creating an Array"
      ],
      "metadata": {
        "id": "28mYwzSEYXK0"
      }
    },
    {
      "cell_type": "code",
      "source": [
        "rand_normal = np.random.normal(0,1,(5,5))\n",
        "rand_normal.view()"
      ],
      "metadata": {
        "colab": {
          "base_uri": "https://localhost:8080/"
        },
        "id": "K1FCceqPYWZD",
        "outputId": "58e55a11-ce93-4a44-8222-ccd69b67a362"
      },
      "execution_count": 29,
      "outputs": [
        {
          "output_type": "execute_result",
          "data": {
            "text/plain": [
              "array([[ 0.50574419, -0.01539969,  0.21074037, -0.15901275,  1.30586991],\n",
              "       [ 0.98433738,  2.2232437 , -0.874794  ,  1.11735591,  0.68565971],\n",
              "       [ 0.84021709, -0.08250395, -0.18428528,  0.79484903, -1.54206737],\n",
              "       [ 0.26354231, -0.02994656,  1.31291172,  0.05056888,  1.23220793],\n",
              "       [ 0.90400835,  0.98421263, -1.15386598,  1.39829336, -0.58223011]])"
            ]
          },
          "metadata": {},
          "execution_count": 29
        }
      ]
    },
    {
      "cell_type": "code",
      "source": [
        "rand_normal2 = np.random.normal(loc=0, scale=1, size=5)\n",
        "rand_normal2.view()"
      ],
      "metadata": {
        "colab": {
          "base_uri": "https://localhost:8080/"
        },
        "id": "YJjub5otYs1u",
        "outputId": "356d83e0-f09e-4e80-bc7a-b333bbc96c74"
      },
      "execution_count": 30,
      "outputs": [
        {
          "output_type": "execute_result",
          "data": {
            "text/plain": [
              "array([ 0.27046482, -0.15314034,  1.14731196,  0.71760783,  1.5731941 ])"
            ]
          },
          "metadata": {},
          "execution_count": 30
        }
      ]
    },
    {
      "cell_type": "markdown",
      "source": [
        "## Working with NaN data"
      ],
      "metadata": {
        "id": "zj5M_imXZywo"
      }
    },
    {
      "cell_type": "code",
      "source": [
        "nan_array = np.array([1,2,3,np.nan,5])\n",
        "nan_array.view()"
      ],
      "metadata": {
        "colab": {
          "base_uri": "https://localhost:8080/"
        },
        "id": "RoecfiUUZxvq",
        "outputId": "c7a51dd5-4421-45a4-e408-d57167a13f6d"
      },
      "execution_count": 31,
      "outputs": [
        {
          "output_type": "execute_result",
          "data": {
            "text/plain": [
              "array([ 1.,  2.,  3., nan,  5.])"
            ]
          },
          "metadata": {},
          "execution_count": 31
        }
      ]
    },
    {
      "cell_type": "code",
      "source": [
        "print(\"Control nan: \", np.isnan(nan_array))\n",
        "print(\"Control nan: \", np.isnan(nan_array).any())"
      ],
      "metadata": {
        "colab": {
          "base_uri": "https://localhost:8080/"
        },
        "id": "1BTXjIhVaHIo",
        "outputId": "1347b45f-38d9-48ce-ada9-cd45b821904b"
      },
      "execution_count": 34,
      "outputs": [
        {
          "output_type": "stream",
          "name": "stdout",
          "text": [
            "Control nan:  [False False False  True False]\n",
            "Control nan:  True\n"
          ]
        }
      ]
    },
    {
      "cell_type": "code",
      "source": [
        "cleaned = nan_array[~np.isnan(nan_array)]\n",
        "cleaned.view()"
      ],
      "metadata": {
        "colab": {
          "base_uri": "https://localhost:8080/"
        },
        "id": "aHjgtctmaS8i",
        "outputId": "ba17e567-8ca5-42ac-bb9c-ccb9f036c468"
      },
      "execution_count": 35,
      "outputs": [
        {
          "output_type": "execute_result",
          "data": {
            "text/plain": [
              "array([1., 2., 3., 5.])"
            ]
          },
          "metadata": {},
          "execution_count": 35
        }
      ]
    },
    {
      "cell_type": "markdown",
      "source": [
        "## BROADCASTING\n",
        "Broadcasting, NumPy’nin farklı boyutlara sahip dizilerle işlemler yapmasını sağlayan güçlü bir özelliğidir. NumPy, daha küçük boyutlu diziyi daha büyük boyutlu diziyle aynı şekle \"yayar\" (broadcast eder), böylece aritmetik işlemler yapılabilir.\n",
        "\n",
        "\n",
        "**Kurallar**\n",
        "\n",
        "Dizilerin şekilleri arka arkaya sıralandığında:\n",
        "\n",
        "Eğer boyutlar eşitse veya biri 1 ise, işlem yapılabilir.\n",
        "Aksi takdirde broadcasting mümkün değildir.\n",
        "\n",
        "NumPy, eksik boyutları 1 olarak kabul eder.\n"
      ],
      "metadata": {
        "id": "dAcmMykgmOFM"
      }
    },
    {
      "cell_type": "code",
      "source": [
        "arr400 = np.array([1,2,3,4,5,6,7,8])\n",
        "\n",
        "\n",
        "result = arr400 + 10\n",
        "print(result)"
      ],
      "metadata": {
        "colab": {
          "base_uri": "https://localhost:8080/"
        },
        "id": "Diq3DLCRmHhD",
        "outputId": "3bd87eaa-f2d3-4ed0-ed7c-f29c2db96e9e"
      },
      "execution_count": 40,
      "outputs": [
        {
          "output_type": "stream",
          "name": "stdout",
          "text": [
            "[11 12 13 14 15 16 17 18]\n"
          ]
        }
      ]
    },
    {
      "cell_type": "code",
      "source": [
        "arr401 = np.random.randint(0,100,(5,5),dtype=int)\n",
        "arr401.view()"
      ],
      "metadata": {
        "colab": {
          "base_uri": "https://localhost:8080/"
        },
        "id": "ETKcinDdomp4",
        "outputId": "1a99e793-150a-4727-aa39-d0503fbd5e25"
      },
      "execution_count": 41,
      "outputs": [
        {
          "output_type": "execute_result",
          "data": {
            "text/plain": [
              "array([[25, 46,  9, 56, 67],\n",
              "       [13, 30, 41, 88, 66],\n",
              "       [40, 99, 42, 12, 96],\n",
              "       [42, 61, 59, 38, 92],\n",
              "       [75, 56, 94, 44, 16]])"
            ]
          },
          "metadata": {},
          "execution_count": 41
        }
      ]
    },
    {
      "cell_type": "code",
      "source": [
        "column_sum = arr401.sum(axis=0)\n",
        "print(column_sum)\n",
        "normalized = arr401 / column_sum\n",
        "print(normalized)"
      ],
      "metadata": {
        "colab": {
          "base_uri": "https://localhost:8080/"
        },
        "id": "whO6p54row-C",
        "outputId": "91dddeda-976d-494c-8de0-f30c3aa455f4"
      },
      "execution_count": 44,
      "outputs": [
        {
          "output_type": "stream",
          "name": "stdout",
          "text": [
            "[195 292 245 238 337]\n",
            "[[0.12820513 0.15753425 0.03673469 0.23529412 0.19881306]\n",
            " [0.06666667 0.10273973 0.16734694 0.3697479  0.1958457 ]\n",
            " [0.20512821 0.3390411  0.17142857 0.05042017 0.28486647]\n",
            " [0.21538462 0.20890411 0.24081633 0.15966387 0.27299703]\n",
            " [0.38461538 0.19178082 0.38367347 0.18487395 0.04747774]]\n"
          ]
        }
      ]
    },
    {
      "cell_type": "code",
      "source": [
        "arr402 = np.random.randint(0,100,(4,3),dtype=int)\n",
        "arr402.view()"
      ],
      "metadata": {
        "colab": {
          "base_uri": "https://localhost:8080/"
        },
        "id": "BuPm_c0BpdYh",
        "outputId": "c493c877-3b55-469b-91ab-6fe01d2d5b15"
      },
      "execution_count": 46,
      "outputs": [
        {
          "output_type": "execute_result",
          "data": {
            "text/plain": [
              "array([[58, 45, 47],\n",
              "       [80, 11, 86],\n",
              "       [23, 15, 66],\n",
              "       [22, 27,  2]])"
            ]
          },
          "metadata": {},
          "execution_count": 46
        }
      ]
    },
    {
      "cell_type": "code",
      "source": [
        "column_sum2 = arr402.sum(axis=0)\n",
        "print(column_sum2)\n",
        "normalized2 = arr402 / column_sum2\n",
        "print(normalized2)"
      ],
      "metadata": {
        "colab": {
          "base_uri": "https://localhost:8080/"
        },
        "id": "m1OpeWSDpo1Z",
        "outputId": "6a428d57-903c-4e98-e1d1-ce04ad65efa2"
      },
      "execution_count": 47,
      "outputs": [
        {
          "output_type": "stream",
          "name": "stdout",
          "text": [
            "[183  98 201]\n",
            "[[0.31693989 0.45918367 0.23383085]\n",
            " [0.43715847 0.1122449  0.4278607 ]\n",
            " [0.12568306 0.15306122 0.32835821]\n",
            " [0.12021858 0.2755102  0.00995025]]\n"
          ]
        }
      ]
    },
    {
      "cell_type": "markdown",
      "source": [
        "## STATISTICAL"
      ],
      "metadata": {
        "id": "2XD67Tt8qwxO"
      }
    },
    {
      "cell_type": "code",
      "source": [
        "data = np.random.randint(0,100,(15),dtype=int)\n",
        "data.view()"
      ],
      "metadata": {
        "colab": {
          "base_uri": "https://localhost:8080/"
        },
        "id": "XQep3zdyqvH4",
        "outputId": "e81e5090-0817-42dd-8159-f4e09618cd2c"
      },
      "execution_count": 49,
      "outputs": [
        {
          "output_type": "execute_result",
          "data": {
            "text/plain": [
              "array([97, 49, 59, 53, 77, 92, 85,  6, 22, 34, 75, 27, 93,  3, 21])"
            ]
          },
          "metadata": {},
          "execution_count": 49
        }
      ]
    },
    {
      "cell_type": "code",
      "source": [
        "ordered_data = np.sort(data)\n",
        "print(ordered_data)"
      ],
      "metadata": {
        "colab": {
          "base_uri": "https://localhost:8080/"
        },
        "id": "Faqb7X5qsvHZ",
        "outputId": "ab8de10a-f498-4585-895f-3af1e4e61110"
      },
      "execution_count": 52,
      "outputs": [
        {
          "output_type": "stream",
          "name": "stdout",
          "text": [
            "[ 3  6 21 22 27 34 49 53 59 75 77 85 92 93 97]\n"
          ]
        }
      ]
    },
    {
      "cell_type": "code",
      "source": [
        "# Mean\n",
        "print(data.mean())"
      ],
      "metadata": {
        "colab": {
          "base_uri": "https://localhost:8080/"
        },
        "id": "NpXEYwRdsZve",
        "outputId": "718b648f-a740-4a54-9538-28cca7a01109"
      },
      "execution_count": 53,
      "outputs": [
        {
          "output_type": "stream",
          "name": "stdout",
          "text": [
            "52.86666666666667\n"
          ]
        }
      ]
    },
    {
      "cell_type": "code",
      "source": [
        "# Median\n",
        "print(np.median(data))"
      ],
      "metadata": {
        "colab": {
          "base_uri": "https://localhost:8080/"
        },
        "id": "nkQIrvMtsh4d",
        "outputId": "c251c53e-f4c9-4609-9375-77bbf58767de"
      },
      "execution_count": 51,
      "outputs": [
        {
          "output_type": "stream",
          "name": "stdout",
          "text": [
            "53.0\n"
          ]
        }
      ]
    },
    {
      "cell_type": "code",
      "source": [
        "# Std\n",
        "print(data.std())"
      ],
      "metadata": {
        "colab": {
          "base_uri": "https://localhost:8080/"
        },
        "id": "Cd2KQuGZszC4",
        "outputId": "8c72bf66-55eb-4f5b-ef69-b1afb24fd768"
      },
      "execution_count": 55,
      "outputs": [
        {
          "output_type": "stream",
          "name": "stdout",
          "text": [
            "31.542282028343408\n"
          ]
        }
      ]
    },
    {
      "cell_type": "code",
      "source": [
        "# Variance\n",
        "print(data.var())"
      ],
      "metadata": {
        "colab": {
          "base_uri": "https://localhost:8080/"
        },
        "id": "p5AUZO4ktLEQ",
        "outputId": "c986f5a0-f176-4cb6-ca6d-1c319887ec54"
      },
      "execution_count": 56,
      "outputs": [
        {
          "output_type": "stream",
          "name": "stdout",
          "text": [
            "994.9155555555556\n"
          ]
        }
      ]
    },
    {
      "cell_type": "code",
      "source": [
        "print(np.percentile(data, 25))\n",
        "print(np.percentile(data, 50))\n",
        "print(np.percentile(data, 75))"
      ],
      "metadata": {
        "colab": {
          "base_uri": "https://localhost:8080/"
        },
        "id": "2iKcOwmctclQ",
        "outputId": "d1ba5316-7ef7-4198-84ca-cc970fe2bba1"
      },
      "execution_count": 57,
      "outputs": [
        {
          "output_type": "stream",
          "name": "stdout",
          "text": [
            "24.5\n",
            "53.0\n",
            "81.0\n"
          ]
        }
      ]
    },
    {
      "cell_type": "code",
      "source": [
        "test_data = np.random.randint(0,100,(15),dtype=int)\n",
        "test_data.view()"
      ],
      "metadata": {
        "colab": {
          "base_uri": "https://localhost:8080/"
        },
        "id": "RB_cnEPytp-T",
        "outputId": "4bcf9395-fac6-476e-ea3a-cfef13c254f2"
      },
      "execution_count": 58,
      "outputs": [
        {
          "output_type": "execute_result",
          "data": {
            "text/plain": [
              "array([19, 10,  5, 47, 47, 71, 95, 37, 35, 65, 59, 24, 36,  7, 24])"
            ]
          },
          "metadata": {},
          "execution_count": 58
        }
      ]
    },
    {
      "cell_type": "code",
      "source": [
        "# Correlation\n",
        "correlation = np.corrcoef(data, test_data)\n",
        "print(correlation)"
      ],
      "metadata": {
        "colab": {
          "base_uri": "https://localhost:8080/"
        },
        "id": "L1GGJVictx0Z",
        "outputId": "9008022d-d8eb-456b-88ce-da75fa527d69"
      },
      "execution_count": 61,
      "outputs": [
        {
          "output_type": "stream",
          "name": "stdout",
          "text": [
            "[[1.        0.4063354]\n",
            " [0.4063354 1.       ]]\n"
          ]
        }
      ]
    },
    {
      "cell_type": "code",
      "source": [
        "# Covariance\n",
        "covariance = np.cov(data, test_data)\n",
        "print(covariance)"
      ],
      "metadata": {
        "colab": {
          "base_uri": "https://localhost:8080/"
        },
        "id": "52sudlAmt5ni",
        "outputId": "aa0efab2-43c3-4530-da49-0f120498acee"
      },
      "execution_count": 60,
      "outputs": [
        {
          "output_type": "stream",
          "name": "stdout",
          "text": [
            "[[1065.98095238  341.24761905]\n",
            " [ 341.24761905  661.63809524]]\n"
          ]
        }
      ]
    },
    {
      "cell_type": "markdown",
      "source": [
        "## PROJECT\n",
        "**Proje Senaryosu**\n",
        "\n",
        "Bir mağazada 500 müşterinin yaşı ve harcamalarını içeren bir veri seti simüle edeceğiz. Bu veriyi analiz ederek:\n",
        "\n",
        "Ortalama müşteri yaşı ve harcama düzeylerini bulacağız.\n",
        "Verilerin medyanını, varyansını ve standart sapmasını hesaplayacağız.\n",
        "Müşteri harcamalarının yüzdeliklerini analiz edeceğiz (25., 50., 75. yüzdelikler).\n",
        "Yaş ve harcamalar arasındaki ilişkiyi anlamaya çalışacağız (korelasyon)."
      ],
      "metadata": {
        "id": "wHWLZl35wig2"
      }
    },
    {
      "cell_type": "code",
      "source": [
        "import numpy as np\n",
        "import matplotlib.pyplot as plt"
      ],
      "metadata": {
        "id": "Grr0O6C0whMG"
      },
      "execution_count": 107,
      "outputs": []
    },
    {
      "cell_type": "markdown",
      "source": [
        "### Veri setinin simüle edilmesi"
      ],
      "metadata": {
        "id": "JWz0vC0Gx5Rk"
      }
    },
    {
      "cell_type": "code",
      "source": [
        "ages = np.random.randint(18,80,size=500)\n",
        "spendings = np.random.normal(loc=800, scale=200, size=500)\n",
        "print(ages[:3])\n",
        "print(spendings[:3])"
      ],
      "metadata": {
        "colab": {
          "base_uri": "https://localhost:8080/"
        },
        "id": "zpNrGww_w-95",
        "outputId": "5190b8d8-55ed-4fba-f04d-cc8c7b35c21b"
      },
      "execution_count": 108,
      "outputs": [
        {
          "output_type": "stream",
          "name": "stdout",
          "text": [
            "[35 59 35]\n",
            "[1003.40129029  505.37480851  935.88477558]\n"
          ]
        }
      ]
    },
    {
      "cell_type": "markdown",
      "source": [
        "### Verinin genel görünümü"
      ],
      "metadata": {
        "id": "apAp6LbtyBGh"
      }
    },
    {
      "cell_type": "code",
      "source": [
        "print(\"Toplam müşteri sayısı: \", ages.size)\n",
        "print(f\"Yaş aralığı: {ages.min()} - {ages.max()}\")\n",
        "print(f\"Harcama aralığı: {spendings.min():.2f} - {spendings.max():.2f}\")\n",
        "print(f\"Ortalama yaş: {ages.mean():.1f}\")\n",
        "print(f\"Ortalama harcama: {spendings.mean():.2f}\")"
      ],
      "metadata": {
        "colab": {
          "base_uri": "https://localhost:8080/"
        },
        "id": "ksms15OZyEre",
        "outputId": "05391324-1b29-4d97-c98a-f895762527cf"
      },
      "execution_count": 109,
      "outputs": [
        {
          "output_type": "stream",
          "name": "stdout",
          "text": [
            "Toplam müşteri sayısı:  500\n",
            "Yaş aralığı: 18 - 79\n",
            "Harcama aralığı: 215.62 - 1497.44\n",
            "Ortalama yaş: 47.5\n",
            "Ortalama harcama: 798.42\n"
          ]
        }
      ]
    },
    {
      "cell_type": "markdown",
      "source": [
        "### Temel istatistiksel analiz"
      ],
      "metadata": {
        "id": "EEmjIEBl3hc8"
      }
    },
    {
      "cell_type": "code",
      "source": [
        "print(\"Ortalama yaş: \", ages.mean())\n",
        "print(\"Ortalama harcama: \", spendings.mean())\n",
        "print(\"Medyan yaş: \", np.median(ages))\n",
        "print(\"Medyan harcama: \", np.median(spendings))\n",
        "print(\"---------------------------------------\")\n",
        "print(\"Varyans yaş: \", ages.var())\n",
        "print(\"Varyans harcama: \", spendings.var())\n",
        "print(\"Standart sapma yaş: \", ages.std())\n",
        "print(\"Standart sapma harcama: \", spendings.std())"
      ],
      "metadata": {
        "colab": {
          "base_uri": "https://localhost:8080/"
        },
        "id": "LDu5xJhE3b0Q",
        "outputId": "57c372fd-9a64-4a8c-ea4e-61f0c50a4c70"
      },
      "execution_count": 110,
      "outputs": [
        {
          "output_type": "stream",
          "name": "stdout",
          "text": [
            "Ortalama yaş:  47.526\n",
            "Ortalama harcama:  798.4172357642783\n",
            "Medyan yaş:  45.5\n",
            "Medyan harcama:  794.5363186778987\n",
            "---------------------------------------\n",
            "Varyans yaş:  316.45332399999995\n",
            "Varyans harcama:  42732.34357989311\n",
            "Standart sapma yaş:  17.789134998644535\n",
            "Standart sapma harcama:  206.71802916023825\n"
          ]
        }
      ]
    },
    {
      "cell_type": "code",
      "source": [
        "percentiles = np.percentile(spendings, [25,50,75])\n",
        "print(\"Alt çeyrek: \", percentiles[0])\n",
        "print(\"Orta çeyrek: \", percentiles[1])\n",
        "print(\"Üst çeyrek: \", percentiles[2])"
      ],
      "metadata": {
        "colab": {
          "base_uri": "https://localhost:8080/"
        },
        "id": "UjF8d3-14QSI",
        "outputId": "0f215c0c-7b48-4f3d-9981-532e0616bd86"
      },
      "execution_count": 111,
      "outputs": [
        {
          "output_type": "stream",
          "name": "stdout",
          "text": [
            "Alt çeyrek:  657.4692921936952\n",
            "Orta çeyrek:  794.5363186778987\n",
            "Üst çeyrek:  934.9749020745571\n"
          ]
        }
      ]
    },
    {
      "cell_type": "code",
      "source": [
        "correlation = np.corrcoef(ages, spendings)\n",
        "print(\"Yaş ve Harcama korelasyonu\", correlation)"
      ],
      "metadata": {
        "colab": {
          "base_uri": "https://localhost:8080/"
        },
        "id": "uefUn_vi4-_b",
        "outputId": "484e630a-549a-4147-a508-9d1b919f3379"
      },
      "execution_count": 112,
      "outputs": [
        {
          "output_type": "stream",
          "name": "stdout",
          "text": [
            "Yaş ve Harcama korelasyonu [[ 1.        -0.0162442]\n",
            " [-0.0162442  1.       ]]\n"
          ]
        }
      ]
    },
    {
      "cell_type": "markdown",
      "source": [
        "### Görselleştirme"
      ],
      "metadata": {
        "id": "8Rv5V90Z6ThP"
      }
    },
    {
      "cell_type": "code",
      "source": [
        "plt.scatter(ages, spendings, alpha=0.5)\n",
        "plt.xlabel(\"Yaş\")\n",
        "plt.ylabel(\"Harcama\")\n",
        "plt.title(\"Müşteri Yaşları ve Harcamaları\")\n",
        "plt.show()"
      ],
      "metadata": {
        "colab": {
          "base_uri": "https://localhost:8080/",
          "height": 472
        },
        "id": "CS08HAq66S6g",
        "outputId": "32c00236-7458-40a8-dbab-129bc10a7b6d"
      },
      "execution_count": 113,
      "outputs": [
        {
          "output_type": "display_data",
          "data": {
            "text/plain": [
              "<Figure size 640x480 with 1 Axes>"
            ],
            "image/png": "[encoded data removed]"
          },
          "metadata": {}
        }
      ]
    }
  ]
}